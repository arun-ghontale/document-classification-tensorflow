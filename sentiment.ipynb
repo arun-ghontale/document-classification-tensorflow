{
 "cells": [
  {
   "cell_type": "code",
   "execution_count": 1,
   "metadata": {},
   "outputs": [
    {
     "name": "stderr",
     "output_type": "stream",
     "text": [
      "C:\\Users\\arun\\Anaconda3\\lib\\site-packages\\h5py\\__init__.py:36: FutureWarning: Conversion of the second argument of issubdtype from `float` to `np.floating` is deprecated. In future, it will be treated as `np.float64 == np.dtype(float).type`.\n",
      "  from ._conv import register_converters as _register_converters\n",
      "Using TensorFlow backend.\n"
     ]
    }
   ],
   "source": [
    "import numpy as np \n",
    "import pandas as pd \n",
    "\n",
    "from sklearn.feature_extraction.text import CountVectorizer\n",
    "from keras.preprocessing.text import Tokenizer\n",
    "from keras.preprocessing.sequence import pad_sequences\n",
    "from keras.models import Sequential\n",
    "from keras.layers import Dense, Embedding, LSTM\n",
    "from sklearn.model_selection import train_test_split\n",
    "from keras.utils.np_utils import to_categorical\n",
    "import tensorflow as tf\n",
    "import nltk, re, time\n",
    "from nltk.corpus import stopwords\n",
    "from string import punctuation\n",
    "from collections import defaultdict\n",
    "from tqdm import tqdm\n",
    "from sklearn.model_selection import train_test_split\n",
    "from keras.preprocessing.text import Tokenizer\n",
    "from keras.preprocessing.sequence import pad_sequences\n",
    "from collections import namedtuple"
   ]
  },
  {
   "cell_type": "code",
   "execution_count": 3,
   "metadata": {},
   "outputs": [],
   "source": [
    "##restrict the review lengths to a 100 words max\n",
    "df = pd.read_csv(\"Reviews.csv\")\n",
    "df = df[df['Score']!=3]\n",
    "df['len_words'] = df.Text.apply(lambda x: len(x.split()))\n",
    "df = df[df['len_words'] <= 100]"
   ]
  },
  {
   "cell_type": "code",
   "execution_count": 4,
   "metadata": {},
   "outputs": [
    {
     "data": {
      "text/html": [
       "<div>\n",
       "<style scoped>\n",
       "    .dataframe tbody tr th:only-of-type {\n",
       "        vertical-align: middle;\n",
       "    }\n",
       "\n",
       "    .dataframe tbody tr th {\n",
       "        vertical-align: top;\n",
       "    }\n",
       "\n",
       "    .dataframe thead th {\n",
       "        text-align: right;\n",
       "    }\n",
       "</style>\n",
       "<table border=\"1\" class=\"dataframe\">\n",
       "  <thead>\n",
       "    <tr style=\"text-align: right;\">\n",
       "      <th></th>\n",
       "      <th>Text</th>\n",
       "      <th>Score</th>\n",
       "    </tr>\n",
       "  </thead>\n",
       "  <tbody>\n",
       "    <tr>\n",
       "      <th>0</th>\n",
       "      <td>I have bought several of the Vitality canned d...</td>\n",
       "      <td>5</td>\n",
       "    </tr>\n",
       "    <tr>\n",
       "      <th>1</th>\n",
       "      <td>Product arrived labeled as Jumbo Salted Peanut...</td>\n",
       "      <td>1</td>\n",
       "    </tr>\n",
       "    <tr>\n",
       "      <th>2</th>\n",
       "      <td>This is a confection that has been around a fe...</td>\n",
       "      <td>4</td>\n",
       "    </tr>\n",
       "    <tr>\n",
       "      <th>3</th>\n",
       "      <td>If you are looking for the secret ingredient i...</td>\n",
       "      <td>2</td>\n",
       "    </tr>\n",
       "    <tr>\n",
       "      <th>4</th>\n",
       "      <td>Great taffy at a great price.  There was a wid...</td>\n",
       "      <td>5</td>\n",
       "    </tr>\n",
       "  </tbody>\n",
       "</table>\n",
       "</div>"
      ],
      "text/plain": [
       "                                                Text  Score\n",
       "0  I have bought several of the Vitality canned d...      5\n",
       "1  Product arrived labeled as Jumbo Salted Peanut...      1\n",
       "2  This is a confection that has been around a fe...      4\n",
       "3  If you are looking for the secret ingredient i...      2\n",
       "4  Great taffy at a great price.  There was a wid...      5"
      ]
     },
     "execution_count": 4,
     "metadata": {},
     "output_type": "execute_result"
    }
   ],
   "source": [
    "data = df[['Text', 'Score']]\n",
    "data.head()"
   ]
  },
  {
   "cell_type": "code",
   "execution_count": 5,
   "metadata": {},
   "outputs": [
    {
     "name": "stderr",
     "output_type": "stream",
     "text": [
      "C:\\Users\\arun\\Anaconda3\\lib\\site-packages\\ipykernel_launcher.py:2: SettingWithCopyWarning: \n",
      "A value is trying to be set on a copy of a slice from a DataFrame.\n",
      "Try using .loc[row_indexer,col_indexer] = value instead\n",
      "\n",
      "See the caveats in the documentation: http://pandas.pydata.org/pandas-docs/stable/indexing.html#indexing-view-versus-copy\n",
      "  \n",
      "C:\\Users\\arun\\Anaconda3\\lib\\site-packages\\ipykernel_launcher.py:3: SettingWithCopyWarning: \n",
      "A value is trying to be set on a copy of a slice from a DataFrame.\n",
      "Try using .loc[row_indexer,col_indexer] = value instead\n",
      "\n",
      "See the caveats in the documentation: http://pandas.pydata.org/pandas-docs/stable/indexing.html#indexing-view-versus-copy\n",
      "  This is separate from the ipykernel package so we can avoid doing imports until\n",
      "C:\\Users\\arun\\Anaconda3\\lib\\site-packages\\ipykernel_launcher.py:4: SettingWithCopyWarning: \n",
      "A value is trying to be set on a copy of a slice from a DataFrame.\n",
      "Try using .loc[row_indexer,col_indexer] = value instead\n",
      "\n",
      "See the caveats in the documentation: http://pandas.pydata.org/pandas-docs/stable/indexing.html#indexing-view-versus-copy\n",
      "  after removing the cwd from sys.path.\n"
     ]
    },
    {
     "data": {
      "text/html": [
       "<div>\n",
       "<style scoped>\n",
       "    .dataframe tbody tr th:only-of-type {\n",
       "        vertical-align: middle;\n",
       "    }\n",
       "\n",
       "    .dataframe tbody tr th {\n",
       "        vertical-align: top;\n",
       "    }\n",
       "\n",
       "    .dataframe thead th {\n",
       "        text-align: right;\n",
       "    }\n",
       "</style>\n",
       "<table border=\"1\" class=\"dataframe\">\n",
       "  <thead>\n",
       "    <tr style=\"text-align: right;\">\n",
       "      <th></th>\n",
       "      <th>Text</th>\n",
       "      <th>Score</th>\n",
       "      <th>sentiment</th>\n",
       "    </tr>\n",
       "  </thead>\n",
       "  <tbody>\n",
       "    <tr>\n",
       "      <th>0</th>\n",
       "      <td>i have bought several of the vitality canned d...</td>\n",
       "      <td>5</td>\n",
       "      <td>1</td>\n",
       "    </tr>\n",
       "    <tr>\n",
       "      <th>1</th>\n",
       "      <td>product arrived labeled as jumbo salted peanut...</td>\n",
       "      <td>1</td>\n",
       "      <td>0</td>\n",
       "    </tr>\n",
       "    <tr>\n",
       "      <th>2</th>\n",
       "      <td>this is a confection that has been around a fe...</td>\n",
       "      <td>4</td>\n",
       "      <td>1</td>\n",
       "    </tr>\n",
       "    <tr>\n",
       "      <th>3</th>\n",
       "      <td>if you are looking for the secret ingredient i...</td>\n",
       "      <td>2</td>\n",
       "      <td>0</td>\n",
       "    </tr>\n",
       "    <tr>\n",
       "      <th>4</th>\n",
       "      <td>great taffy at a great price  there was a wide...</td>\n",
       "      <td>5</td>\n",
       "      <td>1</td>\n",
       "    </tr>\n",
       "  </tbody>\n",
       "</table>\n",
       "</div>"
      ],
      "text/plain": [
       "                                                Text  Score  sentiment\n",
       "0  i have bought several of the vitality canned d...      5          1\n",
       "1  product arrived labeled as jumbo salted peanut...      1          0\n",
       "2  this is a confection that has been around a fe...      4          1\n",
       "3  if you are looking for the secret ingredient i...      2          0\n",
       "4  great taffy at a great price  there was a wide...      5          1"
      ]
     },
     "execution_count": 5,
     "metadata": {},
     "output_type": "execute_result"
    }
   ],
   "source": [
    "##Convert the sentiment scores to 0 or a 1 and preprocess the text\n",
    "data['sentiment']=[1 if (x>3) else 0 for x in data['Score']]\n",
    "data['Text']= [x.lower() for x in data['Text']]\n",
    "data['Text'] = data['Text'].apply((lambda x: re.sub('[^a-zA-z0-9\\s]','',x)))##remove the non-alphanumerics\n",
    "data.head()"
   ]
  },
  {
   "cell_type": "code",
   "execution_count": 6,
   "metadata": {},
   "outputs": [
    {
     "data": {
      "text/plain": [
       "(403797, 3)"
      ]
     },
     "execution_count": 6,
     "metadata": {},
     "output_type": "execute_result"
    }
   ],
   "source": [
    "data.shape"
   ]
  },
  {
   "cell_type": "code",
   "execution_count": 7,
   "metadata": {},
   "outputs": [
    {
     "name": "stderr",
     "output_type": "stream",
     "text": [
      "C:\\Users\\arun\\Anaconda3\\lib\\site-packages\\keras_preprocessing\\text.py:177: UserWarning: The `nb_words` argument in `Tokenizer` has been renamed `num_words`.\n",
      "  warnings.warn('The `nb_words` argument in `Tokenizer` '\n"
     ]
    }
   ],
   "source": [
    "##tokenize the text and restrict the number of vocabulary words to a max of 10000 words and removes all characters from the\n",
    "##filters string\n",
    "tokenizer = Tokenizer(nb_words=10000, filters='!\"#$%&()*+,-./:;<=>?@[\\\\]^_`{|}~\\t\\n',\n",
    "                                   lower=True,split=' ')\n",
    "tokenizer.fit_on_texts(data['Text'].values)\n",
    "X = tokenizer.texts_to_sequences(data['Text'].values)\n",
    "##padding the sequences to 100 words\n",
    "X = pad_sequences(X)\n",
    "Y = pd.get_dummies(data['sentiment']).values"
   ]
  },
  {
   "cell_type": "code",
   "execution_count": 8,
   "metadata": {},
   "outputs": [
    {
     "data": {
      "text/plain": [
       "((403797, 100), (403797, 2))"
      ]
     },
     "execution_count": 8,
     "metadata": {},
     "output_type": "execute_result"
    }
   ],
   "source": [
    "X.shape,Y.shape"
   ]
  },
  {
   "cell_type": "code",
   "execution_count": 9,
   "metadata": {},
   "outputs": [
    {
     "name": "stdout",
     "output_type": "stream",
     "text": [
      "class imbalance datapoints 85.2799797918261\n"
     ]
    }
   ],
   "source": [
    "vals = [1 if each > 3 else 0 for each in data['Score'].values]\n",
    "print(\"class imbalance datapoints\",100*sum(vals)/len(vals))"
   ]
  },
  {
   "cell_type": "code",
   "execution_count": 10,
   "metadata": {},
   "outputs": [
    {
     "name": "stdout",
     "output_type": "stream",
     "text": [
      "(323037, 100) (323037,)\n",
      "(80760, 100) (80760,)\n"
     ]
    }
   ],
   "source": [
    "###80-20 split on the dataset\n",
    "X_train, X_test, Y_train, Y_test = train_test_split(X,data.sentiment, test_size = 0.2, random_state = 42)\n",
    "print(X_train.shape,Y_train.shape)\n",
    "print(X_test.shape,Y_test.shape)"
   ]
  },
  {
   "cell_type": "code",
   "execution_count": 11,
   "metadata": {},
   "outputs": [
    {
     "data": {
      "text/plain": [
       "(array([   0,    0,    0,    0,    0,    0,    0,    0,    0,    0,    0,\n",
       "           0,    0,    0,    0,    0,    0,    0,    0,    0,    0,    0,\n",
       "           0,    0,    0,    0,    0,    0,    0,    0,    0,    0,    0,\n",
       "           0,    0,    0,    0,    0,    0,    0,    0,    0,    0,    0,\n",
       "           0,    0,    0,    0,    0,    0,    0,    0,    2,   13,  106,\n",
       "         293,    9,    1, 5344,  589,   99,   66,  212,    3,   13,  111,\n",
       "          28,   41,    6,   39,    9,   29,  172,    1,   35,  608,   51,\n",
       "          23,    4, 2801,   55,    4, 1346,  530,    3,    5,  526,   85,\n",
       "          12, 4693,    8, 1621,    3,  105, 7360,    7,   35,   85,   55,\n",
       "         161]),\n",
       " 'i have bought several of the vitality canned dog food products and have found them all to be of good quality the product looks more like a stew than a processed meat and it smells better my labrador is finicky and she appreciates this product better than  most')"
      ]
     },
     "execution_count": 11,
     "metadata": {},
     "output_type": "execute_result"
    }
   ],
   "source": [
    "###You can clearly observe the left padding\n",
    "X[0],data['Text'].loc[0]"
   ]
  },
  {
   "cell_type": "code",
   "execution_count": 12,
   "metadata": {},
   "outputs": [
    {
     "data": {
      "text/plain": [
       "(55, 161)"
      ]
     },
     "execution_count": 12,
     "metadata": {},
     "output_type": "execute_result"
    }
   ],
   "source": [
    "tokenizer.word_index['than'],tokenizer.word_index['most']"
   ]
  },
  {
   "cell_type": "code",
   "execution_count": 13,
   "metadata": {},
   "outputs": [],
   "source": [
    "\n",
    "def build_rnn(n_words, embed_size, current_batch, lstm_sizes, learning_rate):\n",
    "    '''Build the Recurrent Neural Network'''\n",
    "\n",
    "    tf.reset_default_graph()\n",
    "    \n",
    "    \n",
    "    ###None, None indicates that you are about to recieve an unknown batch size and unknown sequence length\n",
    "    with tf.name_scope('inputs'):\n",
    "        inputs = tf.placeholder(tf.int32, [None, None], name='inputs')\n",
    "\n",
    "    with tf.name_scope('labels'):\n",
    "        labels = tf.placeholder(tf.int32, [None, None], name='labels')\n",
    "\n",
    "    ###The keep prob for dropout\n",
    "    keep_prob_ = tf.placeholder(tf.float32, name='keep_prob')\n",
    "\n",
    "    \n",
    "    with tf.name_scope(\"embeddings\"):\n",
    "        embedding = tf.Variable(tf.random_uniform((n_words, embed_size), -1, 1)) ##-1 because you don't know the batch size\n",
    "        ##if multiple RNN layers are used try tf.Variable(tf.random_uniform((n_words, embed_size), -1)) instead\n",
    "        embed = tf.nn.embedding_lookup(embedding, inputs)\n",
    "        # batch_size_tf = length(embed)\n",
    "        multi_RNN = []\n",
    "        for each in lstm_sizes:\n",
    "            lstm = tf.contrib.rnn.LSTMCell(each)\n",
    "            ##For dropout you need to add another wrapper layer around normal LSTM\n",
    "            drop = tf.contrib.rnn.DropoutWrapper(lstm, output_keep_prob=keep_prob_)\n",
    "            multi_RNN.append(drop)\n",
    "        cell = tf.contrib.rnn.MultiRNNCell(multi_RNN)\n",
    "\n",
    "    with tf.name_scope(\"RNN_init_state\"):\n",
    "        # Getting an initial state of all zeros\n",
    "        initial_state = cell.zero_state(current_batch, tf.float32)\n",
    "    \n",
    "    # Run the data through the RNN layers\n",
    "    with tf.name_scope(\"RNN_forward\"):\n",
    "        # Run the data through the RNN layers\n",
    "        outputs, states = tf.nn.dynamic_rnn(cell, embed, initial_state=initial_state)\n",
    "\n",
    "\n",
    "    # Make the predictions\n",
    "    with tf.name_scope('predictions'):\n",
    "    \n",
    "        # Create the fully connected layers by taking the last output from the LSTM outputs\n",
    "        predictions = tf.contrib.layers.fully_connected(outputs[:, -1],\n",
    "                                                  num_outputs = 2,\n",
    "                                                  activation_fn = None,\n",
    "                                                  weights_initializer = tf.truncated_normal_initializer(stddev=0.1))\n",
    "        ##for tensorboard\n",
    "        tf.summary.histogram('predictions', predictions)\n",
    "    # Calculate the cost\n",
    "    with tf.name_scope('cost'):\n",
    "        # # Calculate the cost\n",
    "        cost = tf.reduce_mean(tf.nn.softmax_cross_entropy_with_logits_v2(labels=labels, logits=predictions))\n",
    "        ##for tensorboard\n",
    "        tf.summary.scalar('cost', cost)\n",
    "\n",
    "    # Train the model with back prop\n",
    "    with tf.name_scope('train'):    \n",
    "\n",
    "        # # Train the model\n",
    "        optimizer = tf.train.AdamOptimizer(learning_rate=learning_rate)\n",
    "        train_op = optimizer.minimize(cost)\n",
    "\n",
    "    # Determine the accuracy\n",
    "    with tf.name_scope(\"accuracy\"):\n",
    "\n",
    "        # # Determine the accuracy\n",
    "        correct_pred = tf.equal(tf.argmax(predictions, 1), tf.argmax(labels, 1))\n",
    "        accuracy = tf.reduce_mean(tf.cast(correct_pred, tf.float32))\n",
    "        ##for tensorboard\n",
    "        tf.summary.histogram('accuracy', accuracy)\n",
    "\n",
    "    # Merge all of the summaries\n",
    "    merged = tf.summary.merge_all()    \n",
    "\n",
    "    # Export the nodes \n",
    "    export_nodes = ['inputs', 'labels', 'keep_prob_', 'initial_state', 'states','accuracy',\n",
    "                    'predictions', 'cost', 'train_op', 'merged']\n",
    "    \n",
    "    local_dict = locals()\n",
    "    Graph_dict = {each:local_dict[each] for each in export_nodes}\n",
    "\n",
    "######Alternatively you can also do the below    \n",
    "#     Graph = namedtuple('Graph', export_nodes)\n",
    "#     local_dict = locals()\n",
    "#     Graph_dict = Graph(*[local_dict[each] for each in export_nodes])\n",
    "##############################################\n",
    "\n",
    "    return Graph_dict"
   ]
  },
  {
   "cell_type": "code",
   "execution_count": 14,
   "metadata": {},
   "outputs": [
    {
     "data": {
      "text/plain": [
       "<tf.Tensor 'inputs/inputs:0' shape=(?, ?) dtype=int32>"
      ]
     },
     "execution_count": 14,
     "metadata": {},
     "output_type": "execute_result"
    }
   ],
   "source": [
    "model = build_rnn(n_words = 10000, \n",
    "                  embed_size = 200,\n",
    "                  current_batch = 50,\n",
    "                  lstm_sizes= [256],\n",
    "                  learning_rate = 0.001\n",
    "                 )\n",
    "model['inputs']"
   ]
  },
  {
   "cell_type": "code",
   "execution_count": 15,
   "metadata": {},
   "outputs": [],
   "source": [
    "def convert_to_categorical(y, n_classes, batch_size):\n",
    "    y_temp = np.zeros((batch_size, n_classes))\n",
    "    for ind,every in enumerate(y):\n",
    "        y_temp[ind][every[0]] = 1\n",
    "    \n",
    "    return y_temp\n",
    "\n",
    "def get_batches(x, y, batch_size, n_classes):\n",
    "    '''Create the batches for the training and validation data'''\n",
    "    n_batches = len(x)//batch_size\n",
    "    x, y = x[:n_batches*batch_size], y[:n_batches*batch_size]\n",
    "    for ii in range(0, len(x), batch_size):\n",
    "        yield x[ii:ii+batch_size], convert_to_categorical(y[ii:ii+batch_size], n_classes=n_classes, batch_size=batch_size)"
   ]
  },
  {
   "cell_type": "code",
   "execution_count": 16,
   "metadata": {},
   "outputs": [],
   "source": [
    "batch_vals = next(get_batches(X_train,Y_train[:,None],batch_size=20, n_classes = 2))"
   ]
  },
  {
   "cell_type": "code",
   "execution_count": 17,
   "metadata": {},
   "outputs": [
    {
     "data": {
      "text/plain": [
       "((20, 100), (20, 2))"
      ]
     },
     "execution_count": 17,
     "metadata": {},
     "output_type": "execute_result"
    }
   ],
   "source": [
    "batch_vals[0].shape,batch_vals[1].shape"
   ]
  },
  {
   "cell_type": "code",
   "execution_count": 18,
   "metadata": {},
   "outputs": [],
   "source": [
    "import time, math\n",
    "\n",
    "def time_since(since):\n",
    "    s = time.time() - since\n",
    "    m = math.floor(s / 60)\n",
    "    s -= m * 60\n",
    "    return '%dm %ds' % (m, s)"
   ]
  },
  {
   "cell_type": "code",
   "execution_count": 20,
   "metadata": {
    "scrolled": false
   },
   "outputs": [
    {
     "name": "stdout",
     "output_type": "stream",
     "text": [
      "EPOCH : 0\n",
      "--------------------------------------------------------------------------------------------------------------------------------------------------------------------------------------------------------\n",
      "[0m 0s , 0% ,0.7346000075340271, accuracy_train : 44.0]\n",
      "[1m 19s , Test loss : 0.6014 , Test accuracy : 78.66]\n",
      "\n",
      "\n",
      "\n",
      "[2m 40s , 12% ,0.16760000586509705, accuracy_train : 92.0]\n",
      "[4m 0s , Test loss : 0.1817 , Test accuracy : 92.97]\n",
      "\n",
      "\n",
      "\n",
      "[5m 25s , 24% ,0.15289999544620514, accuracy_train : 94.0]\n",
      "[6m 45s , Test loss : 0.1424 , Test accuracy : 94.53]\n",
      "\n",
      "\n",
      "\n",
      "[8m 7s , 37% ,0.051100000739097595, accuracy_train : 96.0]\n",
      "[9m 28s , Test loss : 0.1347 , Test accuracy : 94.67]\n",
      "\n",
      "\n",
      "\n",
      "[10m 50s , 49% ,0.225600004196167, accuracy_train : 94.0]\n",
      "[12m 11s , Test loss : 0.1177 , Test accuracy : 95.65]\n",
      "\n",
      "\n",
      "\n",
      "[13m 33s , 61% ,0.24410000443458557, accuracy_train : 92.0]\n",
      "[14m 54s , Test loss : 0.1136 , Test accuracy : 95.83]\n",
      "\n",
      "\n",
      "\n",
      "[16m 17s , 74% ,0.039400000125169754, accuracy_train : 100.0]\n",
      "[17m 39s , Test loss : 0.1091 , Test accuracy : 95.93]\n",
      "\n",
      "\n",
      "\n",
      "--------------------------------------------------------------------------------------------------------------------------------------------------------------------------------------------------------\n",
      "EPOCH : 1\n",
      "--------------------------------------------------------------------------------------------------------------------------------------------------------------------------------------------------------\n",
      "[18m 17s , 0% ,0.05009999871253967, accuracy_train : 98.0]\n",
      "[19m 38s , Test loss : 0.1015 , Test accuracy : 96.28]\n",
      "\n",
      "\n",
      "\n",
      "[21m 1s , 12% ,0.1039000004529953, accuracy_train : 96.0]\n",
      "[22m 22s , Test loss : 0.098 , Test accuracy : 96.39999999999999]\n",
      "\n",
      "\n",
      "\n",
      "[23m 44s , 24% ,0.06750000268220901, accuracy_train : 98.0]\n",
      "[25m 6s , Test loss : 0.0975 , Test accuracy : 96.52]\n",
      "\n",
      "\n",
      "\n",
      "[26m 31s , 37% ,0.007400000002235174, accuracy_train : 100.0]\n",
      "[27m 54s , Test loss : 0.1002 , Test accuracy : 96.49]\n",
      "\n",
      "\n",
      "\n",
      "[29m 20s , 49% ,0.20350000262260437, accuracy_train : 94.0]\n",
      "[30m 41s , Test loss : 0.0923 , Test accuracy : 96.69]\n",
      "\n",
      "\n",
      "\n",
      "[32m 6s , 61% ,0.14339999854564667, accuracy_train : 94.0]\n",
      "[33m 27s , Test loss : 0.0928 , Test accuracy : 96.64]\n",
      "\n",
      "\n",
      "\n",
      "[34m 50s , 74% ,0.034699998795986176, accuracy_train : 100.0]\n",
      "[36m 11s , Test loss : 0.0897 , Test accuracy : 96.82]\n",
      "\n",
      "\n",
      "\n",
      "--------------------------------------------------------------------------------------------------------------------------------------------------------------------------------------------------------\n"
     ]
    }
   ],
   "source": [
    "batch_size = 50\n",
    "saver = tf.train.Saver()\n",
    "init = tf.global_variables_initializer()\n",
    "epochs = 2\n",
    "loss_train,acc_train = ([],[])\n",
    "dataset_size = X.shape[0]\n",
    "# Start training\n",
    "with tf.Session() as sess:\n",
    "    \n",
    "    ##initalize all the tf global variables\n",
    "    sess.run(init)\n",
    "    since = time.time()\n",
    "    \n",
    "    for epoch in range(epochs):\n",
    "        print(f\"EPOCH : {epoch}\")\n",
    "        print(\"-\"*200)\n",
    "        for ind_tr,(x_,y_) in enumerate(get_batches(X_train,Y_train[:,None],batch_size=batch_size, n_classes= 2)):\n",
    "            loss_val,acc_val,_ = sess.run([model['cost'],model['accuracy'],model['train_op']], feed_dict={model['inputs']: x_,\n",
    "                                                         model['labels']: y_,model['keep_prob_']: 0.5})\n",
    "            loss_train.append(loss_val)\n",
    "            acc_train.append(acc_val)\n",
    "            \n",
    "            if ind_tr%1000 == 0:\n",
    "                print(f\"[{time_since(since)} , {int(ind_tr*batch_size*100/dataset_size)}% ,{round(loss_val,4)}, accuracy_train : {round(acc_val*100,2)}]\")\n",
    "                loss_test,acc_test = ([],[])\n",
    "                for ind_te,(x_te,y_te) in enumerate(get_batches(X_test,Y_test[:,None],batch_size=batch_size, n_classes = 2)):\n",
    "                    loss_te,acc_te = sess.run([model['cost'],model['accuracy']], feed_dict={model['inputs']: x_te,\n",
    "                                                             model['labels']: y_te,model['keep_prob_']: 1})\n",
    "                    loss_test.append(loss_te)\n",
    "                    acc_test.append(acc_te)\n",
    "                print(f\"[{time_since(since)} , Test loss : {round(sum(loss_test)/len(loss_test),4)} , Test accuracy : {100*round(sum(acc_test)/len(acc_test),4)}]\")\n",
    "                print(\"\\n\\n\")\n",
    "                checkpoint = rf\".\\model_save\\sentiment_{epoch}_{ind_tr}.ckpt\"\n",
    "                saver.save(sess, checkpoint)\n",
    "        print(\"-\"*200)\n"
   ]
  },
  {
   "cell_type": "code",
   "execution_count": 19,
   "metadata": {},
   "outputs": [
    {
     "name": "stdout",
     "output_type": "stream",
     "text": [
      "[1.66118528e-04 2.24816980e-05 1.01016781e-05 4.51556975e-04\n",
      " 7.44491590e-04 1.82171086e-01 8.16434164e-01] 0.9999999999999999\n"
     ]
    }
   ],
   "source": [
    "import numpy as np\n",
    "\n",
    "def predict_output(query_vec, model, sess_test):\n",
    "    #     for _, x in enumerate(get_test_batches(x_test, batch_size), 1):\n",
    "    test_state = sess_test.run(model['initial_state'])\n",
    "    feed = {model['inputs']: x_query,\n",
    "            model['keep_prob_']: 1,\n",
    "            model['initial_state']: test_state}\n",
    "    predictions = sess_test.run(model['predictions'], feed_dict=feed)\n",
    "    return softmax(predictions[0])\n",
    "\n",
    "\n",
    "def softmax(x):\n",
    "    \"\"\"Compute softmax values for each sets of scores in x.\"\"\"\n",
    "    e_x = np.exp(x - np.max(x))\n",
    "    return e_x / e_x.sum()\n",
    "\n",
    "scores = [3.0, 1.0, 0.2, 4.0,4.5, 10.0, 11.5]\n",
    "print(softmax(scores),sum(softmax(scores)))"
   ]
  },
  {
   "cell_type": "code",
   "execution_count": 20,
   "metadata": {},
   "outputs": [],
   "source": [
    "##testing\n",
    "checkpoint = r\".\\model_save\\sentiment_1_6000.ckpt\"\n",
    "sentence = 'this is a bad product'\n",
    "x_query = np.array(tokenizer.texts_to_sequences([sentence]))"
   ]
  },
  {
   "cell_type": "code",
   "execution_count": 21,
   "metadata": {},
   "outputs": [
    {
     "name": "stdout",
     "output_type": "stream",
     "text": [
      "INFO:tensorflow:Restoring parameters from .\\model_save\\sentiment_1_6000.ckpt\n",
      "probabilities : [0.9942009  0.00579904]\n"
     ]
    }
   ],
   "source": [
    "model_test = build_rnn(n_words = 10000, \n",
    "                  embed_size = 200,\n",
    "                  current_batch = 1,\n",
    "                  lstm_sizes = [256],\n",
    "                  learning_rate = 0.001)\n",
    "\n",
    "init = tf.global_variables_initializer()\n",
    "saver = tf.train.Saver()\n",
    "\n",
    "with tf.Session() as sess_test:\n",
    "    sess_test.run(init)\n",
    "    # Load the model\n",
    "#     saver = tf.train.import_meta_graph(checkpoint+\".meta\")\n",
    "    saver.restore(sess_test, checkpoint)\n",
    "#     saver.restore(sess, checkpoint)\n",
    "#     print(predict_output(x_query, model, sess_test))\n",
    "    print(f\"probabilities : {predict_output(x_query, model_test, sess_test)}\")"
   ]
  },
  {
   "cell_type": "code",
   "execution_count": 26,
   "metadata": {},
   "outputs": [
    {
     "data": {
      "image/png": "[encoded data removed]",
      "text/plain": [
       "<Figure size 432x288 with 1 Axes>"
      ]
     },
     "metadata": {},
     "output_type": "display_data"
    }
   ],
   "source": [
    "import matplotlib.pyplot as plt\n",
    "plt.plot(loss_train)\n",
    "plt.show()"
   ]
  },
  {
   "cell_type": "code",
   "execution_count": null,
   "metadata": {},
   "outputs": [],
   "source": []
  }
 ],
 "metadata": {
  "kernelspec": {
   "display_name": "Python 3",
   "language": "python",
   "name": "python3"
  },
  "language_info": {
   "codemirror_mode": {
    "name": "ipython",
    "version": 3
   },
   "file_extension": ".py",
   "mimetype": "text/x-python",
   "name": "python",
   "nbconvert_exporter": "python",
   "pygments_lexer": "ipython3",
   "version": "3.6.5"
  }
 },
 "nbformat": 4,
 "nbformat_minor": 2
}
